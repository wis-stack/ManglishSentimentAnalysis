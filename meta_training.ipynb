{
 "cells": [
  {
   "cell_type": "code",
   "execution_count": null,
   "metadata": {},
   "outputs": [
    {
     "name": "stdout",
     "output_type": "stream",
     "text": [
      "Collecting seaborn\n",
      "  Using cached seaborn-0.13.2-py3-none-any.whl.metadata (5.4 kB)\n",
      "Requirement already satisfied: numpy!=1.24.0,>=1.20 in c:\\users\\xlewi\\appdata\\local\\programs\\python\\python312\\lib\\site-packages (from seaborn) (2.2.3)\n",
      "Requirement already satisfied: pandas>=1.2 in c:\\users\\xlewi\\appdata\\local\\programs\\python\\python312\\lib\\site-packages (from seaborn) (2.2.3)\n",
      "Requirement already satisfied: matplotlib!=3.6.1,>=3.4 in c:\\users\\xlewi\\appdata\\local\\programs\\python\\python312\\lib\\site-packages (from seaborn) (3.10.1)\n",
      "Requirement already satisfied: contourpy>=1.0.1 in c:\\users\\xlewi\\appdata\\local\\programs\\python\\python312\\lib\\site-packages (from matplotlib!=3.6.1,>=3.4->seaborn) (1.3.1)\n",
      "Requirement already satisfied: cycler>=0.10 in c:\\users\\xlewi\\appdata\\local\\programs\\python\\python312\\lib\\site-packages (from matplotlib!=3.6.1,>=3.4->seaborn) (0.12.1)\n",
      "Requirement already satisfied: fonttools>=4.22.0 in c:\\users\\xlewi\\appdata\\local\\programs\\python\\python312\\lib\\site-packages (from matplotlib!=3.6.1,>=3.4->seaborn) (4.56.0)\n",
      "Requirement already satisfied: kiwisolver>=1.3.1 in c:\\users\\xlewi\\appdata\\local\\programs\\python\\python312\\lib\\site-packages (from matplotlib!=3.6.1,>=3.4->seaborn) (1.4.8)\n",
      "Requirement already satisfied: packaging>=20.0 in c:\\users\\xlewi\\appdata\\local\\programs\\python\\python312\\lib\\site-packages (from matplotlib!=3.6.1,>=3.4->seaborn) (23.2)\n",
      "Requirement already satisfied: pillow>=8 in c:\\users\\xlewi\\appdata\\local\\programs\\python\\python312\\lib\\site-packages (from matplotlib!=3.6.1,>=3.4->seaborn) (11.1.0)\n",
      "Requirement already satisfied: pyparsing>=2.3.1 in c:\\users\\xlewi\\appdata\\local\\programs\\python\\python312\\lib\\site-packages (from matplotlib!=3.6.1,>=3.4->seaborn) (3.2.1)\n",
      "Requirement already satisfied: python-dateutil>=2.7 in c:\\users\\xlewi\\appdata\\local\\programs\\python\\python312\\lib\\site-packages (from matplotlib!=3.6.1,>=3.4->seaborn) (2.9.0.post0)\n",
      "Requirement already satisfied: pytz>=2020.1 in c:\\users\\xlewi\\appdata\\local\\programs\\python\\python312\\lib\\site-packages (from pandas>=1.2->seaborn) (2025.1)\n",
      "Requirement already satisfied: tzdata>=2022.7 in c:\\users\\xlewi\\appdata\\local\\programs\\python\\python312\\lib\\site-packages (from pandas>=1.2->seaborn) (2025.1)\n",
      "Requirement already satisfied: six>=1.5 in c:\\users\\xlewi\\appdata\\local\\programs\\python\\python312\\lib\\site-packages (from python-dateutil>=2.7->matplotlib!=3.6.1,>=3.4->seaborn) (1.17.0)\n",
      "Using cached seaborn-0.13.2-py3-none-any.whl (294 kB)\n",
      "Installing collected packages: seaborn\n",
      "Successfully installed seaborn-0.13.2\n",
      "Note: you may need to restart the kernel to use updated packages.\n"
     ]
    }
   ],
   "source": [
    "pip install imbalanced-learn\n",
    "pip install seaborn"
   ]
  },
  {
   "cell_type": "code",
   "execution_count": 1,
   "metadata": {},
   "outputs": [
    {
     "name": "stdout",
     "output_type": "stream",
     "text": [
      "Number of entries in CSV: 9525\n"
     ]
    }
   ],
   "source": [
    "import csv\n",
    "with open(\"data/processed_data.csv\", \"r\", newline=\"\", encoding=\"utf-8\") as file:\n",
    "    reader = csv.reader(file)\n",
    "    header = next(reader)  \n",
    "    num_entries = sum(1 for _ in reader) \n",
    "print(\"Number of entries in CSV:\", num_entries)"
   ]
  },
  {
   "cell_type": "code",
   "execution_count": 2,
   "metadata": {},
   "outputs": [
    {
     "name": "stdout",
     "output_type": "stream",
     "text": [
      "rating_star\n",
      "2    4438\n",
      "0    3123\n",
      "1    1964\n",
      "Name: count, dtype: int64\n"
     ]
    }
   ],
   "source": [
    "import pandas as pd\n",
    "\n",
    "df = pd.read_csv(\"data/processed_data.csv\")\n",
    "print(df['rating_star'].value_counts())"
   ]
  },
  {
   "cell_type": "code",
   "execution_count": 3,
   "metadata": {},
   "outputs": [
    {
     "name": "stdout",
     "output_type": "stream",
     "text": [
      "Best SVM Parameters: {'C': 10, 'gamma': 'scale', 'kernel': 'rbf'}\n",
      "Best Random Forest Parameters: {'max_depth': None, 'min_samples_leaf': 1, 'min_samples_split': 5, 'n_estimators': 200}\n",
      "Best Naïve Bayes Parameters: {'alpha': 0.1}\n"
     ]
    }
   ],
   "source": [
    "from sklearn.model_selection import GridSearchCV\n",
    "from sklearn.svm import SVC\n",
    "from sklearn.ensemble import RandomForestClassifier\n",
    "from sklearn.naive_bayes import MultinomialNB\n",
    "from imblearn.over_sampling import SMOTE\n",
    "from sklearn.feature_extraction.text import TfidfVectorizer\n",
    "from sklearn.model_selection import train_test_split\n",
    "\n",
    "svm_param_grid = {\n",
    "    \"C\": [0.1, 1, 10],\n",
    "    \"kernel\": [\"linear\", \"rbf\"], \n",
    "    \"gamma\": [\"scale\", \"auto\"]  \n",
    "}\n",
    "\n",
    "rf_param_grid = {\n",
    "    \"n_estimators\": [100, 200], \n",
    "    \"max_depth\": [10, 20, None],  \n",
    "    \"min_samples_split\": [2, 5],\n",
    "    \"min_samples_leaf\": [1, 2]  \n",
    "}\n",
    "\n",
    "bb_param_grid = {\n",
    "    \"alpha\": [0.1, 0.5, 1.0]  \n",
    "}\n",
    "\n",
    "df = pd.read_csv(\"data/processed_data.csv\")\n",
    "\n",
    "train_texts, val_texts, train_labels, val_labels = train_test_split(\n",
    "    df[\"comment\"], df[\"rating_star\"], test_size=0.2, random_state=42, stratify=df[\"rating_star\"]\n",
    ")\n",
    "\n",
    "vectorizer = TfidfVectorizer(\n",
    "    max_features=10000, \n",
    "    ngram_range=(1, 3), \n",
    "    stop_words=\"english\",  \n",
    "    min_df=2,  \n",
    "    max_df=0.9,  \n",
    ")\n",
    "\n",
    "X_train = vectorizer.fit_transform(train_texts)\n",
    "X_val = vectorizer.transform(val_texts)\n",
    "\n",
    "smote = SMOTE(sampling_strategy=\"auto\", k_neighbors=3, random_state=42)\n",
    "X_train_resampled, train_labels_resampled = smote.fit_resample(X_train, train_labels)\n",
    "\n",
    "svm_grid = GridSearchCV(SVC(probability=True), svm_param_grid, cv=3, scoring=\"accuracy\", n_jobs=-1)\n",
    "svm_grid.fit(X_train_resampled, train_labels_resampled)\n",
    "best_svm = svm_grid.best_estimator_\n",
    "print(f\"Best SVM Parameters: {svm_grid.best_params_}\")\n",
    "\n",
    "rf_grid = GridSearchCV(RandomForestClassifier(), rf_param_grid, cv=3, scoring=\"accuracy\", n_jobs=-1)\n",
    "rf_grid.fit(X_train_resampled, train_labels_resampled)\n",
    "best_rf = rf_grid.best_estimator_\n",
    "print(f\"Best Random Forest Parameters: {rf_grid.best_params_}\")\n",
    "\n",
    "nb_grid = GridSearchCV(MultinomialNB(), bb_param_grid, cv=3, scoring=\"accuracy\", n_jobs=-1)\n",
    "nb_grid.fit(X_train_resampled, train_labels_resampled)\n",
    "best_nb = nb_grid.best_estimator_\n",
    "print(f\"Best Naïve Bayes Parameters: {nb_grid.best_params_}\")"
   ]
  },
  {
   "cell_type": "code",
   "execution_count": 5,
   "metadata": {},
   "outputs": [
    {
     "name": "stdout",
     "output_type": "stream",
     "text": [
      "Fitting 3 folds for each of 20 candidates, totalling 60 fits\n",
      "Best Meta Model Parameters: {'C': np.float64(0.6367574915058981), 'max_iter': 100, 'solver': 'lbfgs'}\n",
      "Best Meta Model Score: 0.9852582159624413\n"
     ]
    }
   ],
   "source": [
    "from sklearn.model_selection import RandomizedSearchCV\n",
    "from sklearn.linear_model import LogisticRegression\n",
    "from scipy.stats import loguniform\n",
    "import numpy as np\n",
    "\n",
    "svm_preds = best_svm.predict_proba(X_train_resampled)\n",
    "rf_preds = best_rf.predict_proba(X_train_resampled)\n",
    "nb_preds = best_nb.predict_proba(X_train_resampled)\n",
    "\n",
    "meta_features_train = np.hstack((svm_preds, rf_preds, nb_preds))\n",
    "\n",
    "param_grid = {\n",
    "    \"C\": loguniform(0.001, 10),\n",
    "    \"solver\": [\"liblinear\", \"lbfgs\", \"saga\"],\n",
    "    \"max_iter\": [100, 200, 500, 1000],\n",
    "}\n",
    "\n",
    "meta_model = LogisticRegression(random_state=42)\n",
    "\n",
    "random_search = RandomizedSearchCV(\n",
    "    meta_model,\n",
    "    param_distributions=param_grid,\n",
    "    n_iter=20,\n",
    "    cv=3,\n",
    "    scoring=\"accuracy\",\n",
    "    verbose=2,\n",
    "    n_jobs=-1\n",
    ")\n",
    "\n",
    "random_search.fit(meta_features_train, train_labels_resampled)\n",
    "best_meta_model = random_search.best_estimator_\n",
    "\n",
    "print(\"Best Meta Model Parameters:\", random_search.best_params_)\n",
    "print(\"Best Meta Model Score:\", random_search.best_score_)"
   ]
  },
  {
   "cell_type": "code",
   "execution_count": 6,
   "metadata": {},
   "outputs": [
    {
     "name": "stdout",
     "output_type": "stream",
     "text": [
      "Final Stacked Model Accuracy: 0.7490813648293964\n"
     ]
    }
   ],
   "source": [
    "svm_preds_val = best_svm.predict_proba(X_val)\n",
    "rf_preds_val = best_rf.predict_proba(X_val)\n",
    "nb_preds_val = best_nb.predict_proba(X_val)\n",
    "\n",
    "meta_features_val = np.hstack((svm_preds_val, rf_preds_val, nb_preds_val))\n",
    "\n",
    "final_preds = best_meta_model.predict(meta_features_val)\n",
    "\n",
    "from sklearn.metrics import accuracy_score\n",
    "val_accuracy = accuracy_score(val_labels, final_preds)\n",
    "print(\"Final Stacked Model Accuracy:\", val_accuracy)"
   ]
  },
  {
   "cell_type": "code",
   "execution_count": 8,
   "metadata": {},
   "outputs": [
    {
     "name": "stdout",
     "output_type": "stream",
     "text": [
      "Training Loss: 0.0547\n",
      "Training Completed!\n"
     ]
    }
   ],
   "source": [
    "import pandas as pd\n",
    "import numpy as np\n",
    "from sklearn.feature_extraction.text import TfidfVectorizer\n",
    "from sklearn.model_selection import train_test_split\n",
    "from sklearn.svm import SVC\n",
    "from sklearn.ensemble import RandomForestClassifier\n",
    "from sklearn.naive_bayes import MultinomialNB\n",
    "from sklearn.linear_model import LogisticRegression\n",
    "from sklearn.metrics import log_loss\n",
    "from imblearn.over_sampling import SMOTE\n",
    "\n",
    "df = pd.read_csv(\"data/processed_data.csv\")\n",
    "\n",
    "\n",
    "train_texts, val_texts, train_labels, val_labels = train_test_split(\n",
    "    df[\"comment\"], df[\"rating_star\"], test_size=0.2, random_state=42, stratify=df[\"rating_star\"]\n",
    ")\n",
    "\n",
    "vectorizer = TfidfVectorizer(\n",
    "    max_features=10000, \n",
    "    ngram_range=(1, 3), \n",
    "    stop_words=\"english\", \n",
    "    min_df=2,  \n",
    "    max_df=0.9, \n",
    ")\n",
    "X_train = vectorizer.fit_transform(train_texts)\n",
    "X_val = vectorizer.transform(val_texts)\n",
    "\n",
    "smote = SMOTE(sampling_strategy=\"auto\", k_neighbors=3, random_state=42)\n",
    "X_train_resampled, train_labels_resampled = smote.fit_resample(X_train, train_labels)\n",
    "\n",
    "svm_model = SVC(\n",
    "    probability=True, \n",
    "    kernel=\"rbf\",  \n",
    "    C=10,  \n",
    "    gamma=\"scale\",  \n",
    "    random_state=42\n",
    ")\n",
    "rf_model = RandomForestClassifier(\n",
    "    n_estimators=200,  \n",
    "    max_depth=None,  \n",
    "    min_samples_split=5,  \n",
    "    min_samples_leaf=1,\n",
    "    random_state=42\n",
    ")\n",
    "nb_model = MultinomialNB(alpha=0.1)\n",
    "\n",
    "\n",
    "svm_model.fit(X_train_resampled, train_labels_resampled)\n",
    "rf_model.fit(X_train_resampled, train_labels_resampled)\n",
    "nb_model.fit(X_train_resampled, train_labels_resampled)\n",
    "\n",
    "svm_preds = svm_model.predict_proba(X_train_resampled)\n",
    "rf_preds = rf_model.predict_proba(X_train_resampled)\n",
    "bb_preds = nb_model.predict_proba(X_train_resampled)\n",
    "\n",
    "meta_features_train = np.hstack((svm_preds, rf_preds, bb_preds))\n",
    "\n",
    "meta_model = LogisticRegression(\n",
    "    solver=\"lbfgs\",  \n",
    "    C=np.float64(0.6367574915058981), \n",
    "    max_iter=100, \n",
    "    random_state=42\n",
    ")\n",
    "\n",
    "meta_model.fit(meta_features_train, train_labels_resampled)\n",
    "\n",
    "meta_train_preds = meta_model.predict_proba(meta_features_train)\n",
    "train_loss = log_loss(train_labels_resampled, meta_train_preds)\n",
    "\n",
    "print(f\"Training Loss: {train_loss:.4f}\")\n",
    "print(\"Training Completed!\")"
   ]
  },
  {
   "cell_type": "code",
   "execution_count": 9,
   "metadata": {},
   "outputs": [
    {
     "name": "stdout",
     "output_type": "stream",
     "text": [
      "Final Training Loss: 0.0547\n",
      "Final Val Loss: 0.8066\n",
      "Final Accuracy: 0.7475\n",
      "Final F1 Score: 0.7375\n",
      "Final Precision: 0.7389\n",
      "Final Recall: 0.7475\n",
      "\n",
      "Confusion Matrix:\n",
      "[[455  62 107]\n",
      " [ 83 172 138]\n",
      " [ 43  48 797]]\n"
     ]
    }
   ],
   "source": [
    "from sklearn.metrics import f1_score, precision_score, recall_score, log_loss, confusion_matrix\n",
    "\n",
    "svm_val_preds = svm_model.predict_proba(X_val)\n",
    "rf_val_preds = rf_model.predict_proba(X_val)\n",
    "nb_val_preds = nb_model.predict_proba(X_val)\n",
    "\n",
    "meta_features_val = np.hstack((svm_val_preds, rf_val_preds, nb_val_preds))\n",
    "\n",
    "val_preds_proba = meta_model.predict_proba(meta_features_val)\n",
    "val_preds = np.argmax(val_preds_proba, axis=1)\n",
    "\n",
    "val_loss = log_loss(val_labels, val_preds_proba)\n",
    "accuracy = np.mean(val_preds == val_labels)\n",
    "f1 = f1_score(val_labels, val_preds, average=\"weighted\")\n",
    "precision = precision_score(val_labels, val_preds, average=\"weighted\")\n",
    "recall = recall_score(val_labels, val_preds, average=\"weighted\")\n",
    "conf_matrix = confusion_matrix(val_labels, val_preds)\n",
    "\n",
    "print(f\"Final Training Loss: {train_loss:.4f}\")\n",
    "print(f\"Final Val Loss: {val_loss:.4f}\")\n",
    "print(f\"Final Accuracy: {accuracy:.4f}\")\n",
    "print(f\"Final F1 Score: {f1:.4f}\")\n",
    "print(f\"Final Precision: {precision:.4f}\")\n",
    "print(f\"Final Recall: {recall:.4f}\")\n",
    "print(\"\\nConfusion Matrix:\")\n",
    "print(conf_matrix)"
   ]
  },
  {
   "cell_type": "code",
   "execution_count": 10,
   "metadata": {},
   "outputs": [
    {
     "data": {
      "image/png": "[encoded data removed]",
      "text/plain": [
       "<Figure size 600x500 with 2 Axes>"
      ]
     },
     "metadata": {},
     "output_type": "display_data"
    }
   ],
   "source": [
    "import matplotlib.pyplot as plt\n",
    "import seaborn as sns\n",
    "\n",
    "class_labels = [\"0 [Negative]\", \"1 [Neutral]\", \"2 [Positive]\"]\n",
    "\n",
    "plt.figure(figsize=(6, 5))\n",
    "sns.heatmap(conf_matrix, annot=True, fmt=\"d\", cmap=\"Blues\", xticklabels=class_labels, yticklabels=class_labels)\n",
    "\n",
    "plt.xlabel(\"Predicted Label\")\n",
    "plt.ylabel(\"True Label\")\n",
    "plt.title(\"Confusion Matrix\")\n",
    "plt.show()"
   ]
  },
  {
   "cell_type": "code",
   "execution_count": 11,
   "metadata": {},
   "outputs": [
    {
     "data": {
      "text/plain": [
       "['data/tfidf_vectorizer.pkl']"
      ]
     },
     "execution_count": 11,
     "metadata": {},
     "output_type": "execute_result"
    }
   ],
   "source": [
    "import joblib\n",
    "\n",
    "joblib.dump(meta_model, \"data/meta_model.pkl\")\n",
    "joblib.dump(svm_model, \"data/svm_model.pkl\")\n",
    "joblib.dump(rf_model, \"data/rf_model.pkl\")\n",
    "joblib.dump(nb_model, \"data/nb_model.pkl\")\n",
    "joblib.dump(vectorizer, \"data/tfidf_vectorizer.pkl\")"
   ]
  },
  {
   "cell_type": "code",
   "execution_count": null,
   "metadata": {},
   "outputs": [
    {
     "name": "stdout",
     "output_type": "stream",
     "text": [
      "Predicted Rating: Negative\n"
     ]
    }
   ],
   "source": [
    "import joblib\n",
    "import numpy as np\n",
    "\n",
    "vectorizer = joblib.load(\"data/tfidf_vectorizer.pkl\")\n",
    "svm_model = joblib.load(\"data/svm_model.pkl\")\n",
    "rf_model = joblib.load(\"data/rf_model.pkl\")\n",
    "nb_model = joblib.load(\"data/nb_model.pkl\")\n",
    "meta_model = joblib.load(\"data/meta_model.pkl\")\n",
    "\n",
    "def predict_rating(input_text):\n",
    "    input_vector = vectorizer.transform([input_text])\n",
    "\n",
    "    svm_pred = svm_model.predict_proba(input_vector)\n",
    "    rf_pred = rf_model.predict_proba(input_vector)\n",
    "    nb_pred = nb_model.predict_proba(input_vector)\n",
    "\n",
    "    meta_features = np.hstack((svm_pred, rf_pred, nb_pred))\n",
    "\n",
    "    final_pred = meta_model.predict(meta_features)\n",
    "\n",
    "    rating_map = {0: \"Negative\", 1: \"Neutral\", 2: \"Positive\"}\n",
    "    return rating_map[final_pred[0]]\n",
    "\n",
    "user_text = input(\"Enter a review: \")\n",
    "predicted_rating = predict_rating(user_text)\n",
    "\n",
    "print(f\"Predicted Rating: {predicted_rating}\")"
   ]
  }
 ],
 "metadata": {
  "kernelspec": {
   "display_name": "Python 3",
   "language": "python",
   "name": "python3"
  },
  "language_info": {
   "codemirror_mode": {
    "name": "ipython",
    "version": 3
   },
   "file_extension": ".py",
   "mimetype": "text/x-python",
   "name": "python",
   "nbconvert_exporter": "python",
   "pygments_lexer": "ipython3",
   "version": "3.12.8"
  }
 },
 "nbformat": 4,
 "nbformat_minor": 2
}
